{
 "cells": [
  {
   "cell_type": "code",
   "execution_count": 1,
   "id": "c646dd2b-eaf2-4c55-b778-bf0baeaf5c9f",
   "metadata": {},
   "outputs": [
    {
     "name": "stderr",
     "output_type": "stream",
     "text": [
      "/home/amon/.local/lib/python3.10/site-packages/matplotlib/projections/__init__.py:63: UserWarning: Unable to import Axes3D. This may be due to multiple versions of Matplotlib being installed (e.g. as a system package and as a pip package). As a result, the 3D projection is not available.\n",
      "  warnings.warn(\"Unable to import Axes3D. This may be due to multiple versions of \"\n"
     ]
    }
   ],
   "source": [
    "import scanpy as sc\n",
    "import scvi\n",
    "import numpy as np\n",
    "import torch"
   ]
  },
  {
   "cell_type": "code",
   "execution_count": 2,
   "id": "52d821a4-0c96-48bc-92f6-a6d4bd06c105",
   "metadata": {},
   "outputs": [],
   "source": [
    "adata = sc.read_h5ad(\"431c764c-3d1f-4ba8-bcb0-b18de3966978.h5ad\")"
   ]
  },
  {
   "cell_type": "code",
   "execution_count": null,
   "id": "9fa8e69d-04e7-4669-8ee8-d922b8ab1671",
   "metadata": {},
   "outputs": [],
   "source": [
    "np.random.seed(42)\n",
    "adata_sub = adata[np.random.choice(adata.n_obs, 5000, replace=False), :].copy()\n",
    "adata_sub\n",
    "scvi.model.SCVI.setup_anndata(adata_sub)\n",
    "\n",
    "\n",
    "vae = scvi.model.SCVI(adata_sub)\n",
    "vae.train(train_size=0.9)"
   ]
  },
  {
   "cell_type": "code",
   "execution_count": 4,
   "id": "2c8384a7-52ef-43b7-88fc-1fc265c088eb",
   "metadata": {},
   "outputs": [
    {
     "data": {
      "text/html": [
       "<div>\n",
       "<style scoped>\n",
       "    .dataframe tbody tr th:only-of-type {\n",
       "        vertical-align: middle;\n",
       "    }\n",
       "\n",
       "    .dataframe tbody tr th {\n",
       "        vertical-align: top;\n",
       "    }\n",
       "\n",
       "    .dataframe thead th {\n",
       "        text-align: right;\n",
       "    }\n",
       "</style>\n",
       "<table border=\"1\" class=\"dataframe\">\n",
       "  <thead>\n",
       "    <tr style=\"text-align: right;\">\n",
       "      <th></th>\n",
       "      <th>reconstruction_loss_train</th>\n",
       "    </tr>\n",
       "    <tr>\n",
       "      <th>epoch</th>\n",
       "      <th></th>\n",
       "    </tr>\n",
       "  </thead>\n",
       "  <tbody>\n",
       "    <tr>\n",
       "      <th>0</th>\n",
       "      <td>25532.134766</td>\n",
       "    </tr>\n",
       "    <tr>\n",
       "      <th>1</th>\n",
       "      <td>20853.820312</td>\n",
       "    </tr>\n",
       "    <tr>\n",
       "      <th>2</th>\n",
       "      <td>20171.558594</td>\n",
       "    </tr>\n",
       "    <tr>\n",
       "      <th>3</th>\n",
       "      <td>19937.119141</td>\n",
       "    </tr>\n",
       "    <tr>\n",
       "      <th>4</th>\n",
       "      <td>19803.451172</td>\n",
       "    </tr>\n",
       "    <tr>\n",
       "      <th>...</th>\n",
       "      <td>...</td>\n",
       "    </tr>\n",
       "    <tr>\n",
       "      <th>395</th>\n",
       "      <td>16889.894531</td>\n",
       "    </tr>\n",
       "    <tr>\n",
       "      <th>396</th>\n",
       "      <td>16897.681641</td>\n",
       "    </tr>\n",
       "    <tr>\n",
       "      <th>397</th>\n",
       "      <td>16897.8125</td>\n",
       "    </tr>\n",
       "    <tr>\n",
       "      <th>398</th>\n",
       "      <td>16891.384766</td>\n",
       "    </tr>\n",
       "    <tr>\n",
       "      <th>399</th>\n",
       "      <td>16889.392578</td>\n",
       "    </tr>\n",
       "  </tbody>\n",
       "</table>\n",
       "<p>400 rows × 1 columns</p>\n",
       "</div>"
      ],
      "text/plain": [
       "      reconstruction_loss_train\n",
       "epoch                          \n",
       "0                  25532.134766\n",
       "1                  20853.820312\n",
       "2                  20171.558594\n",
       "3                  19937.119141\n",
       "4                  19803.451172\n",
       "...                         ...\n",
       "395                16889.894531\n",
       "396                16897.681641\n",
       "397                  16897.8125\n",
       "398                16891.384766\n",
       "399                16889.392578\n",
       "\n",
       "[400 rows x 1 columns]"
      ]
     },
     "execution_count": 4,
     "metadata": {},
     "output_type": "execute_result"
    }
   ],
   "source": [
    "vae.history['reconstruction_loss_train']"
   ]
  },
  {
   "cell_type": "code",
   "execution_count": 5,
   "id": "ca2385e3-ab87-4ff7-97b7-3236a783575a",
   "metadata": {},
   "outputs": [
    {
     "data": {
      "text/plain": [
       "\"SCVI model with the following parameters: \\nn_hidden: 128, n_latent: 10, n_layers: 1, dropout_rate: 0.1, dispersion: gene, gene_likelihood: zinb, latent_distribution: normal.\\nTraining status: Trained\\nModel's adata is minified?: False\""
      ]
     },
     "execution_count": 5,
     "metadata": {},
     "output_type": "execute_result"
    }
   ],
   "source": [
    "vae.summary_string"
   ]
  },
  {
   "cell_type": "code",
   "execution_count": 9,
   "id": "ed4a7858-9139-4d60-95f6-7c68fc4b28f5",
   "metadata": {},
   "outputs": [
    {
     "name": "stderr",
     "output_type": "stream",
     "text": [
      "/home/amon/.local/lib/python3.10/site-packages/scvi/data/fields/_base_field.py:63: UserWarning: adata.X does not contain unnormalized count data. Are you sure this is what you want?\n",
      "  self.validate_field(adata)\n",
      "/home/amon/.local/lib/python3.10/site-packages/scvi/data/fields/_base_field.py:63: UserWarning: adata.X does not contain unnormalized count data. Are you sure this is what you want?\n",
      "  self.validate_field(adata)\n",
      "/home/amon/.local/lib/python3.10/site-packages/scvi/module/_vae.py:570: UserWarning: The value argument must be within the support of the distribution\n",
      "  reconst_loss = -generative_outputs[MODULE_KEYS.PX_KEY].log_prob(x).sum(-1)\n"
     ]
    },
    {
     "data": {
      "text/plain": [
       "{'reconstruction_loss': tensor(17218.8516, device='cuda:0')}"
      ]
     },
     "execution_count": 9,
     "metadata": {},
     "output_type": "execute_result"
    }
   ],
   "source": [
    "scvi.model.SCVI.setup_anndata(adata)\n",
    "vae.get_reconstruction_error(adata)"
   ]
  }
 ],
 "metadata": {
  "kernelspec": {
   "display_name": "Python 3 (ipykernel)",
   "language": "python",
   "name": "python3"
  },
  "language_info": {
   "codemirror_mode": {
    "name": "ipython",
    "version": 3
   },
   "file_extension": ".py",
   "mimetype": "text/x-python",
   "name": "python",
   "nbconvert_exporter": "python",
   "pygments_lexer": "ipython3",
   "version": "3.10.12"
  }
 },
 "nbformat": 4,
 "nbformat_minor": 5
}
