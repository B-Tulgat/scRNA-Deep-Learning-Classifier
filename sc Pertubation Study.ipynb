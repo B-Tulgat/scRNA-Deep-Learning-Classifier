{
 "cells": [
  {
   "cell_type": "code",
   "execution_count": 1,
   "id": "f0f119f7-5d6b-4d29-8e1b-d2ade05b63b6",
   "metadata": {},
   "outputs": [],
   "source": [
    "import warnings\n",
    "warnings.filterwarnings(\"ignore\")"
   ]
  },
  {
   "cell_type": "code",
   "execution_count": 2,
   "id": "c37fdcb3-25b0-470c-90a0-43056cb0f18f",
   "metadata": {},
   "outputs": [],
   "source": [
    "import os\n",
    "import tempfile\n",
    "import gc\n",
    "\n",
    "import matplotlib.pyplot as plt\n",
    "import scanpy as sc\n",
    "import scvi\n",
    "import seaborn as sns\n",
    "import torch\n",
    "import numpy as np"
   ]
  },
  {
   "cell_type": "code",
   "execution_count": 3,
   "id": "e6cfd6fe-a326-4b96-873c-b53536a579ba",
   "metadata": {},
   "outputs": [],
   "source": [
    "alldata = sc.read_h5ad(\"431c764c-3d1f-4ba8-bcb0-b18de3966978.h5ad\")"
   ]
  },
  {
   "cell_type": "code",
   "execution_count": 4,
   "id": "64d41345-363c-48da-b213-f45d802adf52",
   "metadata": {},
   "outputs": [],
   "source": [
    "np.random.seed(42)\n",
    "adata = alldata[np.random.choice(alldata.n_obs, 5000, replace=False), :].copy()\n",
    "scvi.model.SCVI.setup_anndata(adata)"
   ]
  },
  {
   "cell_type": "code",
   "execution_count": 5,
   "id": "2f552ea1-07be-441f-a831-5abd43f2aa4b",
   "metadata": {},
   "outputs": [
    {
     "data": {
      "text/plain": [
       "1617"
      ]
     },
     "execution_count": 5,
     "metadata": {},
     "output_type": "execute_result"
    }
   ],
   "source": [
    "alldata=None\n",
    "\n",
    "gc.collect()"
   ]
  },
  {
   "cell_type": "markdown",
   "id": "bfb9d87b-0c1e-405c-860e-bf3c78e35890",
   "metadata": {},
   "source": [
    "# Artificially create disease conditions by adding biases\n",
    "\n",
    "## Amyotrophic Lateral Sclerosis (ALS) - Down-Regulated Genes in Cortex\n",
    "- Gene expressions that are consistently down regulated such that signifies the disease\n",
    "\n",
    "## Huntington's Disease - UP-Regulated Genes in Cortex (BA9)\n",
    "- Gene expressions that are consistently up regulated such that signifies the disease"
   ]
  },
  {
   "cell_type": "code",
   "execution_count": 6,
   "id": "15bcf88f-da41-4e89-bc4e-1d9bac8f1ec7",
   "metadata": {},
   "outputs": [],
   "source": [
    "als_motor_cortex_downregulated_ensembl_ids = [\n",
    "    # Energy Metabolism & Mitochondrial\n",
    "    \"ENSG00000014641\",   # MDH1\n",
    "    \"ENSG00000172115\",   # CYCS\n",
    "    \"ENSG00000189043\",   # NDUFA4\n",
    "    \"ENSG00000152234\",   # ATP5F1A (ATP5A1)\n",
    "    \n",
    "    # Cytoskeleton & Neurofilaments\n",
    "    \"ENSG00000104725\",   # NEFL\n",
    "    \"ENSG00000100285\",   # NEFH\n",
    "    \"ENSG00000104722\",   # NEFM\n",
    "    \"ENSG00000137285\",   # TUBB2A\n",
    "    \"ENSG00000176014\",   # TUBB6\n",
    "    \n",
    "    # Ion Homeostasis & Calcium Binding\n",
    "    \"ENSG00000105409\",   # ATP1A3\n",
    "    \"ENSG00000022355\",   # GABRA1\n",
    "    \"ENSG00000176381\",   # KCNC2\n",
    "    \"ENSG00000124140\",   # SLC12A5\n",
    "    \"ENSG00000100362\",   # PVALB\n",
    "    \"ENSG00000171862\",   # NRGN\n",
    "    \"ENSG00000183134\",   # PCP4\n",
    "    \"ENSG00000188127\",   # RCAN2\n",
    "    \n",
    "    # Synaptic Vesicle & Neurotransmission\n",
    "    \"ENSG00000114573\",   # ATP6V1A\n",
    "    \"ENSG00000073969\",   # NSF\n",
    "    \"ENSG00000132639\",   # SNAP25\n",
    "    \"ENSG00000103229\",   # SYT13\n",
    "    \"ENSG00000089199\",   # CHGB\n",
    "    \"ENSG00000166922\",   # SCG5\n",
    "    \"ENSG00000175426\",   # PCSK1\n",
    "    \n",
    "    # Protein Modification & Turnover\n",
    "    \"ENSG00000154277\",   # UCHL1\n",
    "    \n",
    "    # Neuronal Maintenance & Signaling\n",
    "    \"ENSG00000112186\",   # CAP2\n",
    "    \"ENSG00000171617\",   # ENC1\n",
    "    \"ENSG00000213190\",   # MLLT11\n",
    "    \"ENSG00000118785\",   # OLFM1\n",
    "    \"ENSG00000163032\",   # VSNL1\n",
    "    \"ENSG00000133169\",   # BEX1\n",
    "    \"ENSG00000128656\",   # CHN1\n",
    "    \"ENSG00000139970\",   # RTN1\n",
    "    \"ENSG00000115310\",   # RTN4\n",
    "    \"ENSG00000156642\",   # NPTN\n",
    "    \"ENSG00000120738\",   # EGR1\n",
    "    \n",
    "    # Other\n",
    "    \"ENSG00000156976\",   # EIF4A2\n",
    "    \"ENSG00000203780\",   # NAP1L5\n",
    "    \"ENSG00000087460\",   # GNAS\n",
    "    \"ENSG00000185808\",   # PNMA2\n",
    "    \"ENSG00000101811\"    # YWHAH\n",
    "]"
   ]
  },
  {
   "cell_type": "code",
   "execution_count": 7,
   "id": "836e7ceb-a4e8-4cd0-95cb-b8b3559664bd",
   "metadata": {},
   "outputs": [],
   "source": [
    "huntington_disease_upregulated_ensembl_ids = [\n",
    "    # Top High DES Score Genes (Most Abundant & Significant)\n",
    "    \"ENSG00000131095\",   # GFAP (Glial fibrillary acidic protein) - Astrocyte marker\n",
    "    \"ENSG00000197971\",   # MBP (Myelin basic protein) - Oligodendrocyte marker\n",
    "    \"ENSG00000120885\",   # CLU (Clusterin)\n",
    "    \"ENSG00000135821\",   # GLUL (Glutamate-ammonia ligase)\n",
    "    \"ENSG00000075886\",   # TUBB4A (Tubulin beta-4A)\n",
    "    \"ENSG00000171885\",   # AQP4 (Aquaporin 4)\n",
    "    \"ENSG00000111674\",   # ENO2 (Enolase 2)\n",
    "    \"ENSG00000166033\",   # AHNAK (AHNAK nucleoprotein)\n",
    "    \"ENSG00000163191\",   # S100B (S100 calcium binding protein B)\n",
    "    \n",
    "    # HOX Genes (Developmental - 24 out of 39 HOX genes are DE)\n",
    "    \"ENSG00000170689\",   # HOXB9\n",
    "    \"ENSG00000180806\",   # HOXC10\n",
    "    \"ENSG00000078399\",   # HOXA9\n",
    "    \"ENSG00000159184\",   # HOXB13\n",
    "    \"ENSG00000128713\",   # HOXD13\n",
    "    \"ENSG00000120075\",   # HOXA10\n",
    "    \"ENSG00000253293\",   # HOXB8\n",
    "    \"ENSG00000170178\",   # HOXC9\n",
    "    \"ENSG00000122592\",   # HOXA7\n",
    "    \"ENSG00000253293\",   # HOXB7\n",
    "    \"ENSG00000120076\",   # HOXA11\n",
    "    \"ENSG00000106004\",   # HOXD10\n",
    "    \"ENSG00000253364\",   # HOXC11\n",
    "    \"ENSG00000120084\",   # HOXA13\n",
    "    \"ENSG00000198353\",   # HOXB6\n",
    "    \"ENSG00000170166\",   # HOXD11\n",
    "    \"ENSG00000005073\",   # HOXA6\n",
    "    \"ENSG00000253449\",   # HOXB5\n",
    "    \"ENSG00000128652\",   # HOXD12\n",
    "    \"ENSG00000257570\",   # HOXC13\n",
    "    \"ENSG00000173706\",   # HOXD9\n",
    "    \"ENSG00000253522\",   # HOXB4\n",
    "    \"ENSG00000106011\",   # HOXD8\n",
    "    \"ENSG00000122691\",   # TWIST1\n",
    "    \"ENSG00000140836\",   # ZFPM2\n",
    "    \n",
    "    # NFkB Family & Inflammatory Response\n",
    "    \"ENSG00000109320\",   # NFKB1 (log2 FC: 0.32)\n",
    "    \"ENSG00000077150\",   # NFKB2 (log2 FC: 0.73)\n",
    "    \"ENSG00000173039\",   # RELA (log2 FC: 0.63)\n",
    "    \"ENSG00000125952\",   # RELB (log2 FC: -0.56, but mentioned as DE)\n",
    "    \"ENSG00000100906\",   # NFKBIA\n",
    "    \"ENSG00000101017\",   # CD40\n",
    "    \n",
    "    # Interleukin Receptors (15 upregulated)\n",
    "    \"ENSG00000056736\",   # IL17RB\n",
    "    \"ENSG00000179639\",   # IL13RA1\n",
    "    \"ENSG00000077238\",   # IL4R\n",
    "    \"ENSG00000115594\",   # IL1R1\n",
    "    \"ENSG00000174564\",   # IL2RG\n",
    "    \"ENSG00000110324\",   # IL10RA\n",
    "    \"ENSG00000112116\",   # IL18RAP\n",
    "    \"ENSG00000115604\",   # IL18R1\n",
    "    \"ENSG00000065135\",   # IL15RA\n",
    "    \"ENSG00000186810\",   # IL9R\n",
    "    \n",
    "    # Calpain Family\n",
    "    \"ENSG00000162909\",   # CAPN2 (upregulated)\n",
    "    \"ENSG00000142507\",   # CAPN7 (upregulated)\n",
    "    \n",
    "    # Calmodulin-related (mostly downregulated except CALML4)\n",
    "    \"ENSG00000178363\",   # CALML4 (log2 FC: 0.42, upregulated)\n",
    "    \n",
    "    # Metallothioneins (nearly all MT1 subtypes are DE and upregulated)\n",
    "    \"ENSG00000169802\",   # MT1A\n",
    "    \"ENSG00000125148\",   # MT1E\n",
    "    \"ENSG00000168300\",   # MT1F\n",
    "    \"ENSG00000125148\",   # MT1G\n",
    "    \"ENSG00000179247\",   # MT1H\n",
    "    \"ENSG00000125144\",   # MT1M\n",
    "    \"ENSG00000187193\",   # MT1X\n",
    "    \"ENSG00000125148\",   # MT2A\n",
    "    \n",
    "    # Additional Immune/Inflammatory Markers\n",
    "    \"ENSG00000163739\",   # CXCL1\n",
    "    \"ENSG00000169429\",   # CXCL8 (IL8)\n",
    "    \"ENSG00000145826\",   # IL15\n",
    "    \"ENSG00000115009\",   # IL18\n",
    "    \"ENSG00000115008\",   # IL9\n",
    "    \n",
    "    # Astrocyte & Glial Markers\n",
    "    \"ENSG00000108846\",   # ABCC1\n",
    "    \"ENSG00000125149\",   # GFRA1\n",
    "    \"ENSG00000118785\",   # SPP1\n",
    "    \"ENSG00000132688\",   # NES (Nestin)\n",
    "    \n",
    "    # Other Significant Upregulated Genes\n",
    "    \"ENSG00000143217\",   # PITX1 (paired-like homeodomain)\n",
    "    \"ENSG00000149809\",   # TM4SF1\n",
    "    \"ENSG00000163586\",   # SCRG1\n",
    "    \"ENSG00000118785\",   # OLFM1\n",
    "    \"ENSG00000162426\",   # SLC38A2\n",
    "    \"ENSG00000168209\",   # DDIT4\n",
    "    \"ENSG00000142867\",   # TP53INP2\n",
    "    \"ENSG00000168209\",   # GJA1 (Gap junction protein alpha 1)\n",
    "    \"ENSG00000157103\",   # ADAMTS9\n",
    "    \"ENSG00000177575\",   # CD163\n",
    "]"
   ]
  },
  {
   "cell_type": "code",
   "execution_count": 8,
   "id": "becee226-d326-4300-b9cb-27f2cde7004e",
   "metadata": {},
   "outputs": [],
   "source": [
    "def make_biased_adata(adata_in, gene_list, effect=\"up\", fold_range=(1.9, 2.1), fraction_cells=0.95, noise_scale=0.02):\n",
    "    \"\"\"\n",
    "    Return a new AnnData with multiplicative bias applied on layer 'counts'.\n",
    "    - effect: 'up'|'down'|'mixed'\n",
    "    - fraction_cells: fraction of cells in which to apply the bias (simulate incomplete penetrance)\n",
    "    - fold_range: uniform [low, high] per gene per cell multiplicative factor\n",
    "    \"\"\"\n",
    "    ad = adata_in.copy()\n",
    "    # Work on counts layer (preserve shapes)\n",
    "    if \"counts\" not in ad.layers:\n",
    "        raise KeyError(\"adata must have 'counts' layer\")\n",
    "    counts = ad.layers[\"counts\"].copy()\n",
    "    if not isinstance(counts, np.ndarray):\n",
    "        counts = counts.toarray()\n",
    "\n",
    "    gene_idx = [ad.var_names.get_loc(g) for g in gene_list]\n",
    "    n_cells = counts.shape[0]\n",
    "    n_aff = max(1, int(np.ceil(n_cells * fraction_cells)))\n",
    "    affected_cells = np.random.choice(n_cells, size=n_aff, replace=False)\n",
    "\n",
    "    for i in affected_cells:\n",
    "        per_cell_folds = np.random.uniform(fold_range[0], fold_range[1], size=len(gene_idx))\n",
    "        for j, gi in enumerate(gene_idx):\n",
    "            if effect == \"up\":\n",
    "                counts[i, gi] = counts[i, gi] * per_cell_folds[j]\n",
    "            elif effect == \"down\":\n",
    "                counts[i, gi] = counts[i, gi] / per_cell_folds[j]\n",
    "            elif effect == \"mixed\":\n",
    "                if np.random.rand() < 0.5:\n",
    "                    counts[i, gi] = counts[i, gi] * per_cell_folds[j]\n",
    "                else:\n",
    "                    counts[i, gi] = counts[i, gi] / per_cell_folds[j]\n",
    "            else:\n",
    "                raise ValueError(\"Unknown effect\")\n",
    "        # mild gaussian noise across all genes to avoid identical copies\n",
    "        noise = np.random.normal(loc=0.0, scale=noise_scale * (counts[i].mean() + 1e-8), size=counts.shape[1])\n",
    "        counts[i, :] = np.clip(counts[i, :] + noise, a_min=0.0, a_max=None)\n",
    "\n",
    "    ad.layers[\"counts\"] = counts\n",
    "\n",
    "    ad.X = counts.copy()\n",
    "    return ad\n",
    "\n",
    "    "
   ]
  },
  {
   "cell_type": "markdown",
   "id": "379034e2-a7f1-4d57-b523-ca0d7daf0850",
   "metadata": {},
   "source": [
    "# Artificial disease condition biomarker\n",
    "- Disease A is down regulated gene expressions of ALS\n",
    "- Disease B is up regulated gene expressions in Huttington disease"
   ]
  },
  {
   "cell_type": "code",
   "execution_count": 9,
   "id": "1c7a9915-e0c5-4891-bf41-4f3a8dd03295",
   "metadata": {},
   "outputs": [],
   "source": [
    "adata.layers[\"counts\"] = adata.X.copy()"
   ]
  },
  {
   "cell_type": "code",
   "execution_count": 10,
   "id": "84074ea2-c377-4a37-8575-6e08174b989a",
   "metadata": {},
   "outputs": [
    {
     "name": "stdout",
     "output_type": "stream",
     "text": [
      "DiseaseA genes (count): 38  out of ALS  41  genes.\n",
      "DiseaseB genes (count): 68  out of Huttington  80  genes.\n"
     ]
    }
   ],
   "source": [
    "genes_order = list(adata.var_names)\n",
    "dA_genes = [i for i in als_motor_cortex_downregulated_ensembl_ids if i in genes_order]\n",
    "dB_genes = [j for j in huntington_disease_upregulated_ensembl_ids if j in genes_order]\n",
    "print(\"DiseaseA genes (count):\", len(dA_genes),\" out of ALS \", len(als_motor_cortex_downregulated_ensembl_ids), \" genes.\")\n",
    "print(\"DiseaseB genes (count):\", len(dB_genes), \" out of Huttington \", len(huntington_disease_upregulated_ensembl_ids), \" genes.\")\n",
    "\n",
    "als_motor_cortex_downregulated_ensembl_ids = None\n",
    "huntington_disease_upregulated_ensembl_ids = None\n",
    "genes_order = None"
   ]
  },
  {
   "cell_type": "code",
   "execution_count": 11,
   "id": "721f9780-e8eb-4b0e-b8ec-b6db8c881701",
   "metadata": {},
   "outputs": [],
   "source": [
    "adata_A = make_biased_adata(adata, dA_genes, effect=\"down\", fold_range=(5.0, 10.0), fraction_cells=0.95, noise_scale=0.02)\n",
    "sc.pp.normalize_total(adata_A, target_sum=1e4)\n",
    "sc.pp.log1p(adata_A)\n",
    "\n",
    "\n",
    "adata_B = make_biased_adata(adata, dB_genes, effect=\"up\", fold_range=(5.0, 10.0), fraction_cells=0.9, noise_scale=0.02)\n",
    "sc.pp.normalize_total(adata_B, target_sum=1e4)\n",
    "sc.pp.log1p(adata_B)\n"
   ]
  },
  {
   "cell_type": "code",
   "execution_count": 12,
   "id": "9f9bea06-7a65-4c57-b752-05bad53dfe10",
   "metadata": {},
   "outputs": [
    {
     "data": {
      "text/plain": [
       "(5000, 29651)"
      ]
     },
     "execution_count": 12,
     "metadata": {},
     "output_type": "execute_result"
    }
   ],
   "source": [
    "sc.pp.normalize_total(adata, target_sum=1e4)\n",
    "sc.pp.log1p(adata)\n",
    "\n",
    "adata.raw = adata\n",
    "\n",
    "\n",
    "adata.X.shape"
   ]
  },
  {
   "cell_type": "code",
   "execution_count": 13,
   "id": "aba5a39f-9767-4af3-8af3-bd4d7bed8b1b",
   "metadata": {},
   "outputs": [],
   "source": [
    "adata.obs[\"synthetic_label\"] = \"Normal\"\n",
    "adata_A.obs[\"synthetic_label\"] = \"DiseaseA\"\n",
    "adata_B.obs[\"synthetic_label\"] = \"DiseaseB\""
   ]
  },
  {
   "cell_type": "code",
   "execution_count": 14,
   "id": "675425b2-60e5-4571-a326-8fcfa4d5422a",
   "metadata": {},
   "outputs": [],
   "source": [
    "import anndata as ad\n",
    "adata_combined = ad.concat([adata, adata_A, adata_B], join=\"outer\", label=\"source\", keys=[\"Normal\", \"DiseaseA\", \"DiseaseB\"])"
   ]
  },
  {
   "cell_type": "code",
   "execution_count": 15,
   "id": "cb346109-bebe-4750-849e-2b77704ad374",
   "metadata": {},
   "outputs": [
    {
     "data": {
      "text/plain": [
       "(15000, 29651)"
      ]
     },
     "execution_count": 15,
     "metadata": {},
     "output_type": "execute_result"
    }
   ],
   "source": [
    "adata_combined.X.shape"
   ]
  },
  {
   "cell_type": "code",
   "execution_count": 16,
   "id": "2d800191-617d-4699-89ff-432d1a7eb70c",
   "metadata": {},
   "outputs": [
    {
     "data": {
      "text/plain": [
       "975"
      ]
     },
     "execution_count": 16,
     "metadata": {},
     "output_type": "execute_result"
    }
   ],
   "source": [
    "adata = None\n",
    "adata_A = None\n",
    "adata_B = None\n",
    "\n",
    "gc.collect()"
   ]
  },
  {
   "cell_type": "markdown",
   "id": "5c3fac22-238b-4312-8c08-188adb2e76ac",
   "metadata": {},
   "source": [
    "## Split the data into train, val and test"
   ]
  },
  {
   "cell_type": "code",
   "execution_count": 17,
   "id": "c9acaca8-26aa-4fbc-a42f-f0a24ad6b733",
   "metadata": {},
   "outputs": [
    {
     "name": "stdout",
     "output_type": "stream",
     "text": [
      "9450 1050 4500\n"
     ]
    }
   ],
   "source": [
    "from sklearn.model_selection import train_test_split\n",
    "\n",
    "indices = np.arange(adata_combined.n_obs)\n",
    "labels = adata_combined.obs[\"synthetic_label\"].values\n",
    "\n",
    "# First, split out the test set (30%)\n",
    "train_idx, test_idx = train_test_split(indices, test_size=0.3, random_state=42, shuffle=True, stratify=labels)\n",
    "\n",
    "# Create AnnData subsets\n",
    "adata_train = adata_combined[train_idx].copy()\n",
    "adata_test = adata_combined[test_idx].copy()\n",
    "\n",
    "# Check sizes\n",
    "print(adata_train.n_obs, adata_test.n_obs)"
   ]
  },
  {
   "cell_type": "code",
   "execution_count": 18,
   "id": "e32bf390-a376-4af8-bb3c-d845db4a466b",
   "metadata": {},
   "outputs": [],
   "source": [
    "#adata_combined = None"
   ]
  },
  {
   "cell_type": "code",
   "execution_count": 19,
   "id": "ae1ead55-4524-4003-87eb-c8a3b51f6d3c",
   "metadata": {},
   "outputs": [
    {
     "data": {
      "text/plain": [
       "714"
      ]
     },
     "execution_count": 19,
     "metadata": {},
     "output_type": "execute_result"
    }
   ],
   "source": [
    "# Force a full garbage collection\n",
    "gc.collect()"
   ]
  },
  {
   "cell_type": "markdown",
   "id": "c0983ccc-8ad1-4c17-9979-5f4705288f6b",
   "metadata": {},
   "source": [
    "# Train from the combined data unsupervised"
   ]
  },
  {
   "cell_type": "code",
   "execution_count": 20,
   "id": "6da66d60-0993-4fa3-a306-358ed59999d6",
   "metadata": {},
   "outputs": [
    {
     "data": {
      "text/plain": [
       "<Compressed Sparse Row sparse matrix of dtype 'float32'\n",
       "\twith 119723191 stored elements and shape (9450, 29651)>"
      ]
     },
     "execution_count": 20,
     "metadata": {},
     "output_type": "execute_result"
    }
   ],
   "source": [
    "adata_train.layers[\"counts\"]"
   ]
  },
  {
   "cell_type": "code",
   "execution_count": 21,
   "id": "53022197-240d-4b8e-abb6-95adf5833e8b",
   "metadata": {},
   "outputs": [],
   "source": [
    "scvi.model.LinearSCVI.setup_anndata(\n",
    "    adata_train,\n",
    "    layer=\"counts\"  # singular, must match your AnnData layer\n",
    ")"
   ]
  },
  {
   "cell_type": "code",
   "execution_count": 28,
   "id": "cb4c66c0-9fc1-4ec8-99d1-b8113dfebfea",
   "metadata": {},
   "outputs": [
    {
     "name": "stderr",
     "output_type": "stream",
     "text": [
      "GPU available: True (cuda), used: True\n",
      "TPU available: False, using: 0 TPU cores\n",
      "HPU available: False, using: 0 HPUs\n",
      "LOCAL_RANK: 0 - CUDA_VISIBLE_DEVICES: [0]\n"
     ]
    },
    {
     "data": {
      "application/vnd.jupyter.widget-view+json": {
       "model_id": "d9d3051fa7a64c638ea7545025c9ea63",
       "version_major": 2,
       "version_minor": 0
      },
      "text/plain": [
       "Training:   0%|          | 0/200 [00:00<?, ?it/s]"
      ]
     },
     "metadata": {},
     "output_type": "display_data"
    },
    {
     "name": "stderr",
     "output_type": "stream",
     "text": [
      "`Trainer.fit` stopped: `max_epochs=200` reached.\n"
     ]
    }
   ],
   "source": [
    "model = scvi.model.LinearSCVI(adata_train, n_latent=36)\n",
    "model.train(max_epochs=200, plan_kwargs={\"lr\": 3e-3}, check_val_every_n_epoch=10 )"
   ]
  },
  {
   "cell_type": "code",
   "execution_count": null,
   "id": "daa5a4c3-3efb-4219-bc0b-b0a3050ab2a7",
   "metadata": {},
   "outputs": [],
   "source": []
  },
  {
   "cell_type": "code",
   "execution_count": 29,
   "id": "b37a0164-085a-44f7-b912-f2e5ecac8e6d",
   "metadata": {},
   "outputs": [
    {
     "data": {
      "image/png": "[encoded data removed]",
      "text/plain": [
       "<Figure size 640x480 with 1 Axes>"
      ]
     },
     "metadata": {},
     "output_type": "display_data"
    }
   ],
   "source": [
    "Z_hat = model.get_latent_representation()\n",
    "for i, z in enumerate(Z_hat.T):\n",
    "    adata_train.obs[f\"Z_{i}\"] = z\n",
    "loadings = model.get_loadings()\n",
    "loadings.head()\n",
    "\n",
    "SCVI_LATENT_KEY = \"X_scVI\"\n",
    "SCVI_CLUSTERS_KEY = \"leiden_scVI\"\n",
    "\n",
    "adata_train.obsm[SCVI_LATENT_KEY] = Z_hat\n",
    "sc.pp.neighbors(adata_train, use_rep=SCVI_LATENT_KEY, n_neighbors=30)\n",
    "sc.tl.umap(adata_train, min_dist=0.3)\n",
    "sc.tl.leiden(adata_train, key_added=SCVI_CLUSTERS_KEY, resolution=0.4)\n",
    "\n",
    "sc.pl.umap(adata_train, color=[SCVI_CLUSTERS_KEY])"
   ]
  },
  {
   "cell_type": "code",
   "execution_count": 30,
   "id": "77029cdd-a081-4c21-9342-6fe9d2bdf675",
   "metadata": {},
   "outputs": [
    {
     "data": {
      "text/plain": [
       "<Axes: xlabel='epoch'>"
      ]
     },
     "execution_count": 30,
     "metadata": {},
     "output_type": "execute_result"
    },
    {
     "data": {
      "image/png": "[encoded data removed]",
      "text/plain": [
       "<Figure size 640x480 with 1 Axes>"
      ]
     },
     "metadata": {},
     "output_type": "display_data"
    }
   ],
   "source": [
    "train_elbo = model.history[\"elbo_train\"][5:]\n",
    "test_elbo = model.history[\"elbo_validation\"][1:]\n",
    "\n",
    "ax = train_elbo.plot()\n",
    "test_elbo.plot(ax=ax)"
   ]
  },
  {
   "cell_type": "code",
   "execution_count": 31,
   "id": "556597e6-e486-4add-8afa-0c39822bda05",
   "metadata": {},
   "outputs": [],
   "source": [
    "model.save(\"LDVAE-36dim.pt\")"
   ]
  },
  {
   "cell_type": "markdown",
   "id": "d6be58a7-9c79-43f8-b3e8-6217c891dd3e",
   "metadata": {},
   "source": [
    "# Supervised Classifier using the latent representation of Normal (source) and Synthetic (Disease A, Disease B)"
   ]
  },
  {
   "cell_type": "code",
   "execution_count": 32,
   "id": "8c28734b-a3e5-4120-901a-b8c90cade08a",
   "metadata": {},
   "outputs": [],
   "source": [
    "import pandas as pd\n",
    "from sklearn.model_selection import train_test_split, StratifiedKFold, cross_val_score\n",
    "from sklearn.linear_model import LogisticRegression\n",
    "from sklearn.ensemble import RandomForestClassifier\n",
    "from sklearn.metrics import (\n",
    "    classification_report, confusion_matrix, accuracy_score,\n",
    "    balanced_accuracy_score, adjusted_rand_score\n",
    ")"
   ]
  },
  {
   "cell_type": "markdown",
   "id": "4dca4dd1-f3de-40ff-bdc7-5ce767259be2",
   "metadata": {},
   "source": [
    "## Train/test split (stratified already) ---"
   ]
  },
  {
   "cell_type": "code",
   "execution_count": 35,
   "id": "5d2621ee-c423-43c1-9f1c-6ffa871a77d0",
   "metadata": {},
   "outputs": [
    {
     "data": {
      "text/plain": [
       "((9450, 36), (1050, 36), (4500, 36))"
      ]
     },
     "execution_count": 35,
     "metadata": {},
     "output_type": "execute_result"
    }
   ],
   "source": [
    "np.random.seed(42)\n",
    "\n",
    "latent_train = model.get_latent_representation(adata_train)\n",
    "latent_test = model.get_latent_representation(adata_test)\n",
    "\n",
    "latent_train.shape, latent_val.shape, latent_test.shape"
   ]
  },
  {
   "cell_type": "code",
   "execution_count": 48,
   "id": "2c212ec2-e311-41e4-adec-213ee3874477",
   "metadata": {},
   "outputs": [
    {
     "name": "stdout",
     "output_type": "stream",
     "text": [
      "Label mapping: {'DiseaseA': 0, 'DiseaseB': 1, 'Normal': 2}\n"
     ]
    },
    {
     "data": {
      "text/plain": [
       "((9450, 36), (9450,))"
      ]
     },
     "execution_count": 48,
     "metadata": {},
     "output_type": "execute_result"
    }
   ],
   "source": [
    "# Put latent in adata_combined.obsm for later use\n",
    "# adata_combined.obsm[\"X_latent\"] = latent\n",
    "\n",
    "# Prepare X,y for classification ---\n",
    "label_series = adata_train.obs[\"synthetic_label\"].astype(str)\n",
    "# Map labels to ints (keeps mapping stable)\n",
    "label_to_int = {lab: i for i, lab in enumerate(label_series.cat.categories)} if pd.api.types.is_categorical_dtype(label_series) else {lab: i for i, lab in enumerate(label_series.unique())}\n",
    "\n",
    "# For safety, create sorted unique labels\n",
    "unique_labels = np.unique(label_series)\n",
    "label_to_int = {lab: i for i, lab in enumerate(unique_labels)}\n",
    "print(\"Label mapping:\", label_to_int)\n",
    "\n",
    "X_train, y_train = latent_train, np.vectorize(label_to_int.get)(adata_train.obs[\"synthetic_label\"].values)\n",
    "\n",
    "X_train.shape, y_train.shape"
   ]
  },
  {
   "cell_type": "code",
   "execution_count": 49,
   "id": "cdb8057d-17a4-4a9e-882d-cecae3ec967a",
   "metadata": {},
   "outputs": [
    {
     "data": {
      "text/plain": [
       "(np.int64(3150), np.int64(3150), np.int64(3150))"
      ]
     },
     "execution_count": 49,
     "metadata": {},
     "output_type": "execute_result"
    }
   ],
   "source": [
    "np.sum(y_train == 0), np.sum(y_train == 1),np.sum(y_train == 2)"
   ]
  },
  {
   "cell_type": "code",
   "execution_count": 50,
   "id": "b8ae18fa-0785-45c1-bede-5415ef022a8a",
   "metadata": {},
   "outputs": [
    {
     "data": {
      "text/plain": [
       "((4500, 36), (4500,))"
      ]
     },
     "execution_count": 50,
     "metadata": {},
     "output_type": "execute_result"
    }
   ],
   "source": [
    "X_test, y_test = latent_test, np.vectorize(label_to_int.get)(adata_test.obs[\"synthetic_label\"].values)\n",
    "\n",
    "X_test.shape, y_test.shape"
   ]
  },
  {
   "cell_type": "code",
   "execution_count": 57,
   "id": "36fd55e8-74f8-4491-b84d-9d643e7ca119",
   "metadata": {},
   "outputs": [
    {
     "name": "stdout",
     "output_type": "stream",
     "text": [
      "Epoch [113/1000] | Train Loss: 0.2823 | Val Loss: 0.6679 | Val Acc: 0.9127\n",
      "Early stopping triggered.\n",
      "\n",
      "Classification report:\n",
      "              precision    recall  f1-score   support\n",
      "\n",
      "           0      0.976     0.936     0.956      1500\n",
      "           1      0.946     0.863     0.902      1500\n",
      "           2      0.832     0.939     0.882      1500\n",
      "\n",
      "    accuracy                          0.913      4500\n",
      "   macro avg      0.918     0.913     0.913      4500\n",
      "weighted avg      0.918     0.913     0.913      4500\n",
      "\n",
      "Confusion matrix:\n",
      " [[1404    6   90]\n",
      " [  11 1294  195]\n",
      " [  23   68 1409]]\n",
      "\n",
      "Example predicted probabilities:\n",
      " [[0.975 0.012 0.013]\n",
      " [0.016 0.954 0.03 ]\n",
      " [0.017 0.952 0.031]\n",
      " [0.753 0.095 0.152]\n",
      " [0.041 0.082 0.877]]\n"
     ]
    }
   ],
   "source": [
    "import torch\n",
    "import torch.nn as nn\n",
    "import torch.optim as optim\n",
    "from torch.utils.data import DataLoader, TensorDataset\n",
    "from sklearn.metrics import accuracy_score, classification_report, confusion_matrix\n",
    "import numpy as np\n",
    "\n",
    "\n",
    "train_losses = []\n",
    "val_losses = []\n",
    "val_accs = []\n",
    "\n",
    "device = torch.device(\"cuda\" if torch.cuda.is_available() else \"cpu\")\n",
    "\n",
    "# --- Prepare data ---\n",
    "X_train_t = torch.tensor(X_train, dtype=torch.float32).to(device)\n",
    "y_train_t = torch.tensor(y_train, dtype=torch.long).to(device)\n",
    "X_test_t  = torch.tensor(X_test, dtype=torch.float32).to(device)\n",
    "y_test_t  = torch.tensor(y_test, dtype=torch.long).to(device)\n",
    "\n",
    "train_ds = TensorDataset(X_train_t, y_train_t)\n",
    "test_ds  = TensorDataset(X_test_t, y_test_t)\n",
    "\n",
    "train_loader = DataLoader(train_ds, batch_size=128, shuffle=True)\n",
    "test_loader  = DataLoader(test_ds, batch_size=256, shuffle=False)\n",
    "\n",
    "# --- Define MLP with Softmax Output ---\n",
    "class MLP_LDVAE(nn.Module):\n",
    "    def __init__(self, input_dim, hidden_dims=[128,64,32,16,8,4], num_classes=3, dropout=0.1):\n",
    "        super().__init__()\n",
    "        layers = []\n",
    "        prev_dim = input_dim\n",
    "        for h in hidden_dims:\n",
    "            layers.append(nn.Linear(prev_dim, h))\n",
    "            layers.append(nn.BatchNorm1d(h))\n",
    "            layers.append(nn.ReLU())\n",
    "            layers.append(nn.Dropout(dropout))\n",
    "            prev_dim = h\n",
    "        layers.append(nn.Linear(prev_dim, num_classes))\n",
    "        self.features = nn.Sequential(*layers)\n",
    "        self.softmax = nn.Softmax(dim=1)\n",
    "\n",
    "    def forward(self, x):\n",
    "        logits = self.features(x)\n",
    "        probs = self.softmax(logits)  # explicitly output probabilities\n",
    "        return probs\n",
    "\n",
    "# --- Instantiate model ---\n",
    "input_dim = X_train.shape[1] \n",
    "mlp = MLP_LDVAE(input_dim=input_dim).to(device)\n",
    "\n",
    "# --- Training setup ---\n",
    "criterion = nn.CrossEntropyLoss()  # still uses logits, so we'll feed in pre-softmax outputs\n",
    "optimizer = optim.Adam(mlp.parameters(), lr=1e-4, weight_decay=1e-2)\n",
    "num_epochs = 1000\n",
    "patience = 50\n",
    "\n",
    "best_val_acc = 0.0\n",
    "epochs_no_improve = 0\n",
    "best_state = None\n",
    "\n",
    "# --- Training loop ---\n",
    "for epoch in range(num_epochs):\n",
    "    mlp.train()\n",
    "    total_loss = 0.0\n",
    "    for xb, yb in train_loader:\n",
    "        optimizer.zero_grad()\n",
    "        logits = mlp.features(xb)\n",
    "        loss = criterion(logits, yb)\n",
    "        loss.backward()\n",
    "        optimizer.step()\n",
    "        total_loss += loss.item() * xb.size(0)\n",
    "    avg_loss = total_loss / len(train_loader.dataset)\n",
    "\n",
    "    # Validation\n",
    "    mlp.eval()\n",
    "    val_loss = 0.0\n",
    "    preds, targets = [], []\n",
    "    with torch.no_grad():\n",
    "        for xb, yb in test_loader:\n",
    "            probs = mlp(xb)\n",
    "            loss_val = criterion(probs, yb)\n",
    "            val_loss += loss_val.item() * xb.size(0)\n",
    "            preds.extend(torch.argmax(probs, dim=1).cpu().numpy())\n",
    "            targets.extend(yb.cpu().numpy())\n",
    "    avg_val_loss = val_loss / len(test_loader.dataset)\n",
    "    acc = accuracy_score(targets, preds)\n",
    "\n",
    "    # In-place print\n",
    "    print(f\"\\rEpoch [{epoch+1:02d}/{num_epochs}] | \"\n",
    "          f\"Train Loss: {avg_loss:.4f} | Val Loss: {avg_val_loss:.4f} | Val Acc: {acc:.4f}\", end='')\n",
    "\n",
    "    # --- Early stopping ---\n",
    "    if acc > best_val_acc:\n",
    "        best_val_acc = acc\n",
    "        best_state = mlp.state_dict()\n",
    "        epochs_no_improve = 0\n",
    "    else:\n",
    "        epochs_no_improve += 1\n",
    "        if epochs_no_improve >= patience:\n",
    "            print()\n",
    "            print(\"Early stopping triggered.\")\n",
    "            break\n",
    "\n",
    "# --- Load best model ---\n",
    "if best_state:\n",
    "    mlp.load_state_dict(best_state)\n",
    "\n",
    "# --- Final evaluation ---\n",
    "mlp.eval()\n",
    "with torch.no_grad():\n",
    "    all_probs = []\n",
    "    all_preds = []\n",
    "    all_targets = []\n",
    "    for xb, yb in test_loader:\n",
    "        probs = mlp(xb)\n",
    "        all_probs.extend(probs.cpu().numpy())\n",
    "        all_preds.extend(torch.argmax(probs, dim=1).cpu().numpy())\n",
    "        all_targets.extend(yb.cpu().numpy())\n",
    "\n",
    "print(\"\\nClassification report:\")\n",
    "print(classification_report(all_targets, all_preds, digits=3))\n",
    "print(\"Confusion matrix:\\n\", confusion_matrix(all_targets, all_preds))\n",
    "\n",
    "# --- Example of inspecting softmax probabilities ---\n",
    "example_probs = all_probs[:5]\n",
    "print(\"\\nExample predicted probabilities:\\n\", np.round(example_probs, 3))\n"
   ]
  },
  {
   "cell_type": "code",
   "execution_count": 58,
   "id": "b9bd2c7c-fba2-4eee-b083-ca07481e1520",
   "metadata": {},
   "outputs": [
    {
     "data": {
      "image/png": "[encoded data removed]",
      "text/plain": [
       "<Figure size 600x500 with 2 Axes>"
      ]
     },
     "metadata": {},
     "output_type": "display_data"
    }
   ],
   "source": [
    "import matplotlib.pyplot as plt\n",
    "import seaborn as sns\n",
    "from sklearn.metrics import confusion_matrix\n",
    "\n",
    "# Example 3x3 confusion matrix\n",
    "cm = confusion_matrix(all_targets, all_preds)\n",
    "\n",
    "# Define class labels for your 3 classes\n",
    "classes = ['ALS', 'Huttington', 'Normal']\n",
    "\n",
    "# Plot heatmap\n",
    "plt.figure(figsize=(6,5))\n",
    "sns.heatmap(cm, annot=True, fmt='d', cmap='Blues', xticklabels=classes, yticklabels=classes)\n",
    "plt.xlabel('Predicted')\n",
    "plt.ylabel('Actual')\n",
    "plt.title('3x3 Confusion Matrix Heatmap')\n",
    "plt.show()\n"
   ]
  },
  {
   "cell_type": "code",
   "execution_count": null,
   "id": "6093c58e-4995-416c-a2b5-62e642e07dcf",
   "metadata": {},
   "outputs": [],
   "source": []
  }
 ],
 "metadata": {
  "kernelspec": {
   "display_name": "Python 3 (ipykernel)",
   "language": "python",
   "name": "python3"
  },
  "language_info": {
   "codemirror_mode": {
    "name": "ipython",
    "version": 3
   },
   "file_extension": ".py",
   "mimetype": "text/x-python",
   "name": "python",
   "nbconvert_exporter": "python",
   "pygments_lexer": "ipython3",
   "version": "3.10.12"
  }
 },
 "nbformat": 4,
 "nbformat_minor": 5
}
