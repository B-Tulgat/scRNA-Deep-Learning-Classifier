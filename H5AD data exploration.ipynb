{
 "cells": [
  {
   "cell_type": "code",
   "execution_count": null,
   "id": "204e1d69-46ff-423e-83bf-512d70b66356",
   "metadata": {},
   "outputs": [],
   "source": [
    "!pip install scanpy"
   ]
  },
  {
   "cell_type": "markdown",
   "id": "7b3ca8fa-ed29-4483-9639-015e8c3a4b90",
   "metadata": {},
   "source": [
    "# Data Human Cell Atlas\n",
    "\n",
    "- Data Page: https://data.humancellatlas.org/hca-bio-networks/nervous-system/atlases/cortex-v1-0\n",
    "    - Atlas Name: Dissection: Primary motor cortex (M1) \n",
    "    - Tissue: primary motor cortex \n",
    "    - Disease: normal\n",
    "    - Cells: 114.6k"
   ]
  },
  {
   "cell_type": "code",
   "execution_count": 1,
   "id": "7cb2162b-b7d0-4d92-abf8-c4e73667a43c",
   "metadata": {},
   "outputs": [
    {
     "name": "stderr",
     "output_type": "stream",
     "text": [
      "/home/amon/.local/lib/python3.10/site-packages/matplotlib/projections/__init__.py:63: UserWarning: Unable to import Axes3D. This may be due to multiple versions of Matplotlib being installed (e.g. as a system package and as a pip package). As a result, the 3D projection is not available.\n",
      "  warnings.warn(\"Unable to import Axes3D. This may be due to multiple versions of \"\n"
     ]
    }
   ],
   "source": [
    "import scanpy as sc\n",
    "\n",
    "adata = sc.read_h5ad(\"431c764c-3d1f-4ba8-bcb0-b18de3966978.h5ad\")"
   ]
  },
  {
   "cell_type": "code",
   "execution_count": 2,
   "id": "1746aaad-3ba4-4e70-86e9-2e7a9bb81de8",
   "metadata": {},
   "outputs": [
    {
     "name": "stdout",
     "output_type": "stream",
     "text": [
      "AnnData object with n_obs × n_vars = 114605 × 29651\n",
      "    obs: 'Class', 'CrossArea_subclass', 'CrossArea_cluster', 'WithinArea_subclass', 'WithinArea_cluster', 'Source', 'Layer', 'Location', 'Region', 'Subregion', 'nCount_RNA', 'nFeature_RNA', 'assay_ontology_term_id', 'cell_type_ontology_term_id', 'development_stage_ontology_term_id', 'disease_ontology_term_id', 'self_reported_ethnicity_ontology_term_id', 'sex_ontology_term_id', 'suspension_type', 'tissue_ontology_term_id', 'donor_id', 'is_primary_data', 'tissue_type', 'cell_type', 'assay', 'disease', 'sex', 'tissue', 'self_reported_ethnicity', 'development_stage', 'observation_joinid'\n",
      "    var: 'feature_is_filtered', 'feature_name', 'feature_reference', 'feature_biotype', 'feature_length', 'feature_type'\n",
      "    uns: 'batch_condition', 'citation', 'default_embedding', 'organism', 'organism_ontology_term_id', 'schema_reference', 'schema_version', 'title'\n",
      "    obsm: 'X_UMAP'\n"
     ]
    }
   ],
   "source": [
    "print(adata)"
   ]
  },
  {
   "cell_type": "code",
   "execution_count": 29,
   "id": "4fa369ba-3dde-4edb-9e49-287dbad88b3b",
   "metadata": {},
   "outputs": [
    {
     "name": "stdout",
     "output_type": "stream",
     "text": [
      "                                                     Class CrossArea_subclass  \\\n",
      "AACAAGAAGTTTCGAC-LKTX_200720_02_C01-1071413852  inhibitory              Lamp5   \n",
      "\n",
      "                                               CrossArea_cluster  \\\n",
      "AACAAGAAGTTTCGAC-LKTX_200720_02_C01-1071413852           Lamp5_5   \n",
      "\n",
      "                                               WithinArea_subclass  \\\n",
      "AACAAGAAGTTTCGAC-LKTX_200720_02_C01-1071413852               Lamp5   \n",
      "\n",
      "                                               WithinArea_cluster  \\\n",
      "AACAAGAAGTTTCGAC-LKTX_200720_02_C01-1071413852            Lamp5_2   \n",
      "\n",
      "                                                                  Source  \\\n",
      "AACAAGAAGTTTCGAC-LKTX_200720_02_C01-1071413852  linnarson_10x_all_layers   \n",
      "\n",
      "                                               Layer        Location Region  \\\n",
      "AACAAGAAGTTTCGAC-LKTX_200720_02_C01-1071413852   All  central medial     M1   \n",
      "\n",
      "                                               Subregion  ...  \\\n",
      "AACAAGAAGTTTCGAC-LKTX_200720_02_C01-1071413852       M1C  ...   \n",
      "\n",
      "                                                is_primary_data  tissue_type  \\\n",
      "AACAAGAAGTTTCGAC-LKTX_200720_02_C01-1071413852            False       tissue   \n",
      "\n",
      "                                                                           cell_type  \\\n",
      "AACAAGAAGTTTCGAC-LKTX_200720_02_C01-1071413852  lamp5 GABAergic cortical interneuron   \n",
      "\n",
      "                                                    assay disease   sex  \\\n",
      "AACAAGAAGTTTCGAC-LKTX_200720_02_C01-1071413852  10x 3' v3  normal  male   \n",
      "\n",
      "                                                              tissue  \\\n",
      "AACAAGAAGTTTCGAC-LKTX_200720_02_C01-1071413852  primary motor cortex   \n",
      "\n",
      "                                               self_reported_ethnicity  \\\n",
      "AACAAGAAGTTTCGAC-LKTX_200720_02_C01-1071413852                 unknown   \n",
      "\n",
      "                                                development_stage  \\\n",
      "AACAAGAAGTTTCGAC-LKTX_200720_02_C01-1071413852  42-year-old stage   \n",
      "\n",
      "                                               observation_joinid  \n",
      "AACAAGAAGTTTCGAC-LKTX_200720_02_C01-1071413852         IaN%1S3p}k  \n",
      "\n",
      "[1 rows x 31 columns]\n"
     ]
    }
   ],
   "source": [
    "print(adata.obs.head(1))"
   ]
  },
  {
   "cell_type": "code",
   "execution_count": 4,
   "id": "805a307f-151b-487e-bc3e-765dbe8e2f40",
   "metadata": {},
   "outputs": [
    {
     "name": "stdout",
     "output_type": "stream",
     "text": [
      "                 feature_is_filtered feature_name feature_reference  \\\n",
      "ENSG00000233576                False      HTR3C2P    NCBITaxon:9606   \n",
      "ENSG00000121410                False         A1BG    NCBITaxon:9606   \n",
      "ENSG00000268895                False     A1BG-AS1    NCBITaxon:9606   \n",
      "ENSG00000148584                False         A1CF    NCBITaxon:9606   \n",
      "ENSG00000175899                False          A2M    NCBITaxon:9606   \n",
      "\n",
      "                feature_biotype feature_length            feature_type  \n",
      "ENSG00000233576            gene           1057  unprocessed_pseudogene  \n",
      "ENSG00000121410            gene           2134          protein_coding  \n",
      "ENSG00000268895            gene           1667                  lncRNA  \n",
      "ENSG00000148584            gene           2211          protein_coding  \n",
      "ENSG00000175899            gene            590          protein_coding  \n"
     ]
    }
   ],
   "source": [
    "print(adata.var.head())\n"
   ]
  },
  {
   "cell_type": "code",
   "execution_count": 6,
   "id": "50322638-0177-4ae2-a436-d490378e7779",
   "metadata": {},
   "outputs": [
    {
     "name": "stdout",
     "output_type": "stream",
     "text": [
      "(114605, 29651)\n"
     ]
    }
   ],
   "source": [
    "print(adata.X.shape)"
   ]
  },
  {
   "cell_type": "code",
   "execution_count": 7,
   "id": "0a64db21-376f-4ac8-9663-a453b950cb21",
   "metadata": {},
   "outputs": [
    {
     "name": "stdout",
     "output_type": "stream",
     "text": [
      "<Compressed Sparse Row sparse matrix of dtype 'float32'\n",
      "\twith 1 stored elements and shape (1, 5)>\n",
      "  Coords\tValues\n",
      "  (0, 2)\t3.977397918701172\n"
     ]
    }
   ],
   "source": [
    "print(adata.X[0, :5])"
   ]
  },
  {
   "cell_type": "code",
   "execution_count": 15,
   "id": "49250a8f-37f0-4701-b7b9-58407748ff44",
   "metadata": {},
   "outputs": [
    {
     "name": "stdout",
     "output_type": "stream",
     "text": [
      "3.977398\n"
     ]
    }
   ],
   "source": [
    "print(adata.X[0,2])"
   ]
  },
  {
   "cell_type": "code",
   "execution_count": 22,
   "id": "2070afae-08bf-4a82-b3d1-c011adc892ce",
   "metadata": {},
   "outputs": [
    {
     "name": "stdout",
     "output_type": "stream",
     "text": [
      "<Compressed Sparse Row sparse matrix of dtype 'float32'\n",
      "\twith 41 stored elements and shape (5, 50)>\n",
      "  Coords\tValues\n",
      "  (0, 2)\t3.977397918701172\n",
      "  (0, 13)\t3.977397918701172\n",
      "  (0, 24)\t5.063442230224609\n",
      "  (0, 26)\t3.977397918701172\n",
      "  (0, 28)\t3.977397918701172\n",
      "  (0, 30)\t4.661133766174316\n",
      "  (0, 34)\t4.661133766174316\n",
      "  (0, 40)\t3.977397918701172\n",
      "  (0, 42)\t3.977397918701172\n",
      "  (0, 47)\t3.977397918701172\n",
      "  (0, 48)\t4.661133766174316\n",
      "  (1, 13)\t4.738840579986572\n",
      "  (1, 24)\t6.341255187988281\n",
      "  (1, 30)\t4.738840579986572\n",
      "  (1, 34)\t4.738840579986572\n",
      "  (1, 41)\t4.738840579986572\n",
      "  (1, 46)\t5.427603721618652\n",
      "  (1, 48)\t4.738840579986572\n",
      "  (2, 24)\t6.124220371246338\n",
      "  (2, 26)\t5.433259963989258\n",
      "  (2, 33)\t4.744472503662109\n",
      "  (2, 34)\t6.124220371246338\n",
      "  (2, 40)\t4.744472503662109\n",
      "  (2, 42)\t5.837267875671387\n",
      "  (2, 46)\t5.433259963989258\n",
      "  (3, 4)\t4.908030033111572\n",
      "  (3, 5)\t4.908030033111572\n",
      "  (3, 21)\t4.908030033111572\n",
      "  (3, 29)\t4.908030033111572\n",
      "  (3, 30)\t4.908030033111572\n",
      "  (3, 33)\t6.001705646514893\n",
      "  (3, 34)\t4.908030033111572\n",
      "  (3, 37)\t4.908030033111572\n",
      "  (3, 42)\t4.908030033111572\n",
      "  (3, 48)\t4.908030033111572\n",
      "  (4, 24)\t5.341236114501953\n",
      "  (4, 30)\t4.652867317199707\n",
      "  (4, 34)\t4.652867317199707\n",
      "  (4, 37)\t4.652867317199707\n",
      "  (4, 41)\t4.652867317199707\n",
      "  (4, 48)\t4.652867317199707\n"
     ]
    }
   ],
   "source": [
    "print(adata.X[:5,:50])"
   ]
  },
  {
   "cell_type": "code",
   "execution_count": 17,
   "id": "34d742f8-df3a-43cc-a1a5-30595fd0e88d",
   "metadata": {},
   "outputs": [
    {
     "name": "stdout",
     "output_type": "stream",
     "text": [
      "Index(['Class', 'CrossArea_subclass', 'CrossArea_cluster',\n",
      "       'WithinArea_subclass', 'WithinArea_cluster', 'Source', 'Layer',\n",
      "       'Location', 'Region', 'Subregion', 'nCount_RNA', 'nFeature_RNA',\n",
      "       'assay_ontology_term_id', 'cell_type_ontology_term_id',\n",
      "       'development_stage_ontology_term_id', 'disease_ontology_term_id',\n",
      "       'self_reported_ethnicity_ontology_term_id', 'sex_ontology_term_id',\n",
      "       'suspension_type', 'tissue_ontology_term_id', 'donor_id',\n",
      "       'is_primary_data', 'tissue_type', 'cell_type', 'assay', 'disease',\n",
      "       'sex', 'tissue', 'self_reported_ethnicity', 'development_stage',\n",
      "       'observation_joinid'],\n",
      "      dtype='object')\n"
     ]
    }
   ],
   "source": [
    "# List all metadata columns\n",
    "print(adata.obs.columns)\n",
    "\n"
   ]
  },
  {
   "cell_type": "code",
   "execution_count": 18,
   "id": "d46f29b5-ddf4-4f05-b1c6-6b5cecb7819a",
   "metadata": {},
   "outputs": [
    {
     "name": "stdout",
     "output_type": "stream",
     "text": [
      "cell_type\n",
      "L2/3-6 intratelencephalic projecting glutamatergic neuron         65184\n",
      "pvalb GABAergic cortical interneuron                               8672\n",
      "sst GABAergic cortical interneuron                                 8443\n",
      "VIP GABAergic cortical interneuron                                 6756\n",
      "lamp5 GABAergic cortical interneuron                               5243\n",
      "corticothalamic-projecting glutamatergic cortical neuron           4399\n",
      "oligodendrocyte                                                    3758\n",
      "L6b glutamatergic cortical neuron                                  2704\n",
      "near-projecting glutamatergic cortical neuron                      2572\n",
      "L5 extratelencephalic projecting glutamatergic cortical neuron     1563\n",
      "astrocyte of the cerebral cortex                                   1558\n",
      "sncg GABAergic cortical interneuron                                1286\n",
      "caudal ganglionic eminence derived cortical interneuron             740\n",
      "chandelier pvalb GABAergic cortical interneuron                     648\n",
      "oligodendrocyte precursor cell                                      536\n",
      "microglial cell                                                     435\n",
      "cerebral cortex endothelial cell                                     65\n",
      "vascular leptomeningeal cell                                         43\n",
      "Name: count, dtype: int64\n",
      "Index(['ENSG00000233576', 'ENSG00000121410', 'ENSG00000268895',\n",
      "       'ENSG00000148584', 'ENSG00000175899', 'ENSG00000245105',\n",
      "       'ENSG00000166535', 'ENSG00000256069', 'ENSG00000184389',\n",
      "       'ENSG00000128274'],\n",
      "      dtype='object')\n"
     ]
    }
   ],
   "source": [
    "\n",
    "# Example: count of cells per type\n",
    "print(adata.obs['cell_type'].value_counts())\n",
    "\n",
    "# List all genes\n",
    "print(adata.var_names[:10])"
   ]
  },
  {
   "cell_type": "code",
   "execution_count": 27,
   "id": "21f9c30c-06b4-4b51-ad76-07f4cb246a9f",
   "metadata": {},
   "outputs": [
    {
     "name": "stdout",
     "output_type": "stream",
     "text": [
      "                feature_name            feature_type\n",
      "ENSG00000233576      HTR3C2P  unprocessed_pseudogene\n",
      "ENSG00000121410         A1BG          protein_coding\n",
      "ENSG00000268895     A1BG-AS1                  lncRNA\n",
      "ENSG00000148584         A1CF          protein_coding\n",
      "ENSG00000175899          A2M          protein_coding\n"
     ]
    }
   ],
   "source": [
    "print(adata.var[['feature_name', 'feature_type']].head())"
   ]
  }
 ],
 "metadata": {
  "kernelspec": {
   "display_name": "Python 3 (ipykernel)",
   "language": "python",
   "name": "python3"
  },
  "language_info": {
   "codemirror_mode": {
    "name": "ipython",
    "version": 3
   },
   "file_extension": ".py",
   "mimetype": "text/x-python",
   "name": "python",
   "nbconvert_exporter": "python",
   "pygments_lexer": "ipython3",
   "version": "3.10.12"
  }
 },
 "nbformat": 4,
 "nbformat_minor": 5
}
